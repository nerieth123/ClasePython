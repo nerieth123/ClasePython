{
  "cells": [
    {
      "cell_type": "markdown",
      "metadata": {
        "id": "_62Kwjq9MAVv"
      },
      "source": [
        "# Clase 15/05/25"
      ]
    },
    {
      "cell_type": "markdown",
      "source": [
        "## Ordenamiento por insercion"
      ],
      "metadata": {
        "id": "SFU9XtGXZmP4"
      }
    },
    {
      "cell_type": "code",
      "source": [
        "# Definimos una función llamada \"ordenamientoPorInsercion\" que recibe como entrada una lista de números.\n",
        "def ordenamientoPorInsercion(unaLista):\n",
        "\n",
        "    # Recorremos la lista desde el segundo elemento (índice 1) hasta el final.\n",
        "    # Empezamos desde el segundo porque el primero ya se puede considerar \"ordenado\".\n",
        "    for indice in range(1, len(unaLista)):\n",
        "\n",
        "        # Guardamos el valor actual que queremos colocar en su posición correcta.\n",
        "        valorActual = unaLista[indice]\n",
        "\n",
        "        # Guardamos la posición actual del valor que estamos revisando.\n",
        "        posicion = indice\n",
        "\n",
        "        # Este bucle while compara el valor actual con los anteriores en la lista (a la izquierda).\n",
        "        # Si encuentra un número mayor a \"valorActual\", lo mueve una posición a la derecha.\n",
        "        # Así hacemos espacio para insertar \"valorActual\" en el lugar correcto.\n",
        "        while posicion > 0 and unaLista[posicion - 1] > valorActual:\n",
        "            unaLista[posicion] = unaLista[posicion - 1]  # Mueve el número mayor una posición a la derecha\n",
        "            posicion = posicion - 1                      # Se mueve a la posición anterior para seguir comparando\n",
        "\n",
        "        # Cuando encuentra el lugar correcto (cuando ya no hay números mayores a la izquierda),\n",
        "        # inserta el valorActual en esa posición.\n",
        "        unaLista[posicion] = valorActual\n",
        "\n",
        "# Creamos una lista de números desordenados\n",
        "unaLista = [12, 34, 26, 93, 15, 36, 48, 50]\n",
        "\n",
        "# Llamamos a la función para ordenar la lista\n",
        "ordenamientoPorInsercion(unaLista)\n",
        "\n",
        "# Imprimimos la lista ya ordenada\n",
        "print(unaLista)\n"
      ],
      "metadata": {
        "colab": {
          "base_uri": "https://localhost:8080/"
        },
        "id": "l-JInxN0Y3G-",
        "outputId": "21f02d38-4683-4d08-d462-eedce4efce9c"
      },
      "execution_count": 14,
      "outputs": [
        {
          "output_type": "stream",
          "name": "stdout",
          "text": [
            "[12, 15, 26, 34, 36, 48, 50, 93]\n"
          ]
        }
      ]
    },
    {
      "cell_type": "markdown",
      "source": [
        "## Ordenamiento por seleccion"
      ],
      "metadata": {
        "id": "yNc9GNkzZ3tf"
      }
    },
    {
      "cell_type": "code",
      "source": [
        "# Definimos una función llamada \"ordenamientoPorSeleccion\" que recibe una lista como entrada.\n",
        "def ordenamientoPorSeleccion(unaLista):\n",
        "\n",
        "    # Recorremos la lista desde el último elemento (len(unaLista)-1) hasta el segundo (índice 1), en pasos de -1 (de atrás hacia adelante).\n",
        "    for llenarRanura in range(len(unaLista) - 1, 0, -1):\n",
        "\n",
        "        # Suponemos que el número más grande está al principio (posición 0).\n",
        "        posicionDelMayor = 0\n",
        "\n",
        "        # Ahora comparamos todos los elementos desde la posición 1 hasta llenarRanura.\n",
        "        # Estamos buscando cuál es el número más grande en esa parte de la lista.\n",
        "        for ubicacion in range(1, llenarRanura + 1):\n",
        "\n",
        "            # Si encontramos un número más grande que el que teníamos guardado como el mayor,\n",
        "            # actualizamos la variable para guardar la nueva posición del número más grande.\n",
        "            if unaLista[ubicacion] > unaLista[posicionDelMayor]:\n",
        "                posicionDelMayor = ubicacion\n",
        "\n",
        "        # Cuando ya sabemos cuál es el número más grande en esa parte de la lista,\n",
        "        # lo intercambiamos con el número que está en la posición actual (llenarRanura),\n",
        "        # es decir, lo movemos al \"final\" de la parte no ordenada de la lista.\n",
        "        temp = unaLista[llenarRanura]                        # Guardamos temporalmente el valor actual en la ranura\n",
        "        unaLista[llenarRanura] = unaLista[posicionDelMayor]  # Ponemos el mayor valor encontrado en su lugar\n",
        "        unaLista[posicionDelMayor] = temp                    # Colocamos el valor original de la ranura en la posición del mayor\n",
        "\n",
        "# Creamos una lista de números desordenados\n",
        "unaLista = [54, 26, 93, 17, 77, 31, 44, 55, 20]\n",
        "\n",
        "# Llamamos a la función para ordenar la lista\n",
        "ordenamientoPorSeleccion(unaLista)\n",
        "\n",
        "# Imprimimos la lista ya ordenada (de menor a mayor)\n",
        "print(unaLista)\n"
      ],
      "metadata": {
        "colab": {
          "base_uri": "https://localhost:8080/"
        },
        "id": "bcZxDbF-Z660",
        "outputId": "d217589d-1ce0-4fb6-b2d7-047cad9c2877"
      },
      "execution_count": 15,
      "outputs": [
        {
          "output_type": "stream",
          "name": "stdout",
          "text": [
            "[17, 20, 26, 31, 44, 54, 55, 77, 93]\n"
          ]
        }
      ]
    }
  ],
  "metadata": {
    "colab": {
      "provenance": [],
      "collapsed_sections": [
        "SFU9XtGXZmP4"
      ]
    },
    "kernelspec": {
      "display_name": "Python 3",
      "name": "python3"
    },
    "language_info": {
      "name": "python"
    }
  },
  "nbformat": 4,
  "nbformat_minor": 0
}